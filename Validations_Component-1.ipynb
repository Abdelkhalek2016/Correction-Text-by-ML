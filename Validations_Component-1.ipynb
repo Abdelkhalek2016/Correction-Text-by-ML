{
 "cells": [
  {
   "cell_type": "code",
   "execution_count": 2,
   "metadata": {},
   "outputs": [],
   "source": [
    "import cx_Oracle\n",
    "import pandas as pd\n",
    "def Get_Validation(corrected_Part,Se_Supplier):\n",
    "\n",
    "    # Database connection parameters\n",
    "    dsn = cx_Oracle.makedsn(\"10.199.104.127\", \"1521\", service_name=\"scrubbing\")\n",
    "    connection = cx_Oracle.connect(user=\"Read_Only\", password=\"READ_ONLY\", dsn=dsn)\n",
    "    cursor = connection.cursor()\n",
    "\n",
    "    # Create a string of MPNs for SQL IN clause\n",
    "    input_str =', '.join([f\"'{corrected_Part}'\"])\n",
    "    input_supplier= ', '.join([f\"'{Se_Supplier}'\"])\n",
    "    #corrected_Part=str(corrected_Part)\n",
    "    #Se_Supplier=str(Se_Supplier)\n",
    "\n",
    "    # SQL query\n",
    "    query = f\"SELECT com_id, com_partnum , cm.get_man_name(man_id) as se_supplier FROM cm.xlp_se_component WHERE NAN_PARTNUM = NONALPHA({input_str}) and cm.get_man_name(man_id)={input_supplier}\"\n",
    "    cursor.execute(query)\n",
    "    rows=cursor.fetchall()\n",
    "    dict_r={}\n",
    "    lst_r=[]\n",
    "    if rows:\n",
    "        for row in rows:\n",
    "            dict_r['COM_ID']=row[0]\n",
    "            dict_r['COM_PARTNUM']=row[1]\n",
    "            dict_r['SE_SUPPLIER']=row[2]\n",
    "            lst_r.append(dict_r)\n",
    "            return pd.DataFrame(lst_r)\n",
    "    else:\n",
    "        return pd.DataFrame([{'COM_ID':'','COM_PARTNUM':'','SE_SUPPLIER':''}])\n",
    "    cursor.close()\n",
    "    connection.close()"
   ]
  },
  {
   "cell_type": "code",
   "execution_count": 7,
   "metadata": {},
   "outputs": [
    {
     "data": {
      "text/html": [
       "<div>\n",
       "<style scoped>\n",
       "    .dataframe tbody tr th:only-of-type {\n",
       "        vertical-align: middle;\n",
       "    }\n",
       "\n",
       "    .dataframe tbody tr th {\n",
       "        vertical-align: top;\n",
       "    }\n",
       "\n",
       "    .dataframe thead th {\n",
       "        text-align: right;\n",
       "    }\n",
       "</style>\n",
       "<table border=\"1\" class=\"dataframe\">\n",
       "  <thead>\n",
       "    <tr style=\"text-align: right;\">\n",
       "      <th></th>\n",
       "      <th>COM_ID</th>\n",
       "      <th>COM_PARTNUM</th>\n",
       "      <th>SE_SUPPLIER</th>\n",
       "    </tr>\n",
       "  </thead>\n",
       "  <tbody>\n",
       "    <tr>\n",
       "      <th>0</th>\n",
       "      <td>1847335114</td>\n",
       "      <td>RC1206FR-075K11A</td>\n",
       "      <td>Yageo</td>\n",
       "    </tr>\n",
       "  </tbody>\n",
       "</table>\n",
       "</div>"
      ],
      "text/plain": [
       "       COM_ID       COM_PARTNUM SE_SUPPLIER\n",
       "0  1847335114  RC1206FR-075K11A       Yageo"
      ]
     },
     "execution_count": 7,
     "metadata": {},
     "output_type": "execute_result"
    }
   ],
   "source": [
    "Get_Validation('RC1206FR-075-K11A','Yageo')"
   ]
  },
  {
   "cell_type": "markdown",
   "metadata": {},
   "source": [
    "### Validation COM_LUT_ACQ"
   ]
  },
  {
   "cell_type": "code",
   "execution_count": 46,
   "metadata": {},
   "outputs": [],
   "source": [
    "import cx_Oracle\n",
    "\n",
    "def Val_COM_ACQ_LUT(MPN, Supplier):\n",
    "    # Database connection parameters\n",
    "    dsn = cx_Oracle.makedsn(\"10.199.104.127\", \"1521\", service_name=\"scrubbing\")\n",
    "    connection = cx_Oracle.connect(user=\"Read_Only\", password=\"READ_ONLY\", dsn=dsn)\n",
    "    cursor = connection.cursor()\n",
    "\n",
    "    # First Logic: Fetch rows where both partnumber and supplier match\n",
    "    query = \"\"\"\n",
    "    SELECT COM_PARTNUM, cm.get_man_name(man_id) SE_SUPPLIER, com_id \n",
    "    FROM cm.xlp_se_component \n",
    "    WHERE NAN_PARTNUM = NONALPHA(:1) AND cm.get_man_name(man_id) = :2\n",
    "    \"\"\"\n",
    "    cursor.execute(query, (MPN, Supplier))\n",
    "    rows = cursor.fetchall()\n",
    "\n",
    "    # Initialize a variable to check if the exact match was found\n",
    "    exact_match_found = False\n",
    "\n",
    "    if rows:\n",
    "        # If rows are found, it means we have an exact match\n",
    "        db_partnumber, db_supplier, db_com_id = rows[0]\n",
    "        status = \"EXACT\"\n",
    "        result = {\n",
    "            \"status\": status,\n",
    "            \"COM_PARTNUM\": db_partnumber,\n",
    "            \"SE_SUPPLIER\": db_supplier,\n",
    "            \"COM_ID\": db_com_id\n",
    "        }\n",
    "        exact_match_found = True\n",
    "\n",
    "    if not exact_match_found:\n",
    "        # Second Logic: Fetch last_com_id from alias_table\n",
    "        alias_query = \"\"\"\n",
    "        SELECT last_com_id \n",
    "        FROM cm.tbl_part_acquisition \n",
    "        WHERE OLD_NAN_PARTNUM = NONALPHA(:1) AND cm.get_man_name(OLD_MAN_ID) = :2\n",
    "        \"\"\"\n",
    "        cursor.execute(alias_query, (MPN, Supplier))\n",
    "        alias_row = cursor.fetchone()\n",
    "\n",
    "        if alias_row:\n",
    "            last_com_id = alias_row[0]\n",
    "            # Use last_com_id to get corresponding details from the first table\n",
    "            fetch_com_query = \"\"\"\n",
    "            SELECT COM_PARTNUM, cm.get_man_name(man_id) SE_SUPPLIER, com_id \n",
    "            FROM cm.xlp_se_component \n",
    "            WHERE com_id = :1\n",
    "            \"\"\"\n",
    "            cursor.execute(fetch_com_query, (last_com_id,))\n",
    "            final_row = cursor.fetchone()\n",
    "            if final_row:\n",
    "                status = \"ACQ\"\n",
    "                db_partnumber, db_supplier, db_com_id = final_row\n",
    "                result = {\n",
    "                    \"status\": status,\n",
    "                    \"COM_PARTNUM\": db_partnumber,\n",
    "                    \"SE_SUPPLIER\": db_supplier,\n",
    "                    \"COM_ID\": db_com_id\n",
    "                }\n",
    "                exact_match_found = True\n",
    "            else:\n",
    "                exact_match_found = False  # No match found, continue to third logic\n",
    "        else:\n",
    "            exact_match_found = False  # No alias found, continue to third logic\n",
    "\n",
    "    if not exact_match_found:\n",
    "        # Third Logic: Fetch se_com_id from lut table\n",
    "        lut_query = \"\"\"\n",
    "        SELECT se_com_id \n",
    "        FROM cm.part_lookup \n",
    "        WHERE NAN_INPUT_PART = NONALPHA(:1) AND cm.get_man_name(SE_MAN_ID) = :2\n",
    "        \"\"\"\n",
    "        cursor.execute(lut_query, (MPN, Supplier))\n",
    "        lut_row = cursor.fetchone()\n",
    "\n",
    "        if lut_row:\n",
    "            se_com_id = lut_row[0]\n",
    "            \n",
    "            # Use se_com_id to get corresponding details from the first table\n",
    "            fetch_se_com_query = \"\"\"\n",
    "            SELECT COM_PARTNUM, cm.get_man_name(man_id) SE_SUPPLIER, com_id \n",
    "            FROM cm.xlp_se_component \n",
    "            WHERE com_id = :1\n",
    "            \"\"\"\n",
    "            cursor.execute(fetch_se_com_query, (se_com_id,))\n",
    "            final_se_row = cursor.fetchone()\n",
    "            \n",
    "            if final_se_row:\n",
    "                status = \"LUT\"\n",
    "                db_partnumber, db_supplier, db_com_id = final_se_row\n",
    "                result = {\n",
    "                    \"status\": status,\n",
    "                    \"COM_PARTNUM\": db_partnumber,\n",
    "                    \"SE_SUPPLIER\": db_supplier,\n",
    "                    \"COM_ID\": db_com_id\n",
    "                }\n",
    "                exact_match_found = True\n",
    "            else:\n",
    "                # If no matching entry found for se_com_id\n",
    "                status = \"NOT MATCH\"\n",
    "                result = {\n",
    "                    \"status\": status,\n",
    "                    \"COM_PARTNUM\": '',\n",
    "                    \"SE_SUPPLIER\": '',\n",
    "                    \"COM_ID\": ''\n",
    "                }\n",
    "        else:\n",
    "            # If no lut entry is found, proceed to handle this scenario\n",
    "            status = \"NOT MATCH\"\n",
    "            result = {\n",
    "                    \"status\": status,\n",
    "                    \"COM_PARTNUM\": '',\n",
    "                    \"SE_SUPPLIER\": '',\n",
    "                    \"COM_ID\": ''\n",
    "                }\n",
    "\n",
    "    # Close the database connection\n",
    "    cursor.close()\n",
    "    connection.close()\n",
    "    # Return or print the result\n",
    "    return result\n"
   ]
  },
  {
   "cell_type": "code",
   "execution_count": 47,
   "metadata": {},
   "outputs": [
    {
     "data": {
      "text/plain": [
       "{'status': 'EXACT',\n",
       " 'COM_PARTNUM': 'KOAX-WS-2-XOR-WS',\n",
       " 'SE_SUPPLIER': 'Turck',\n",
       " 'COM_ID': 62966537}"
      ]
     },
     "execution_count": 47,
     "metadata": {},
     "output_type": "execute_result"
    }
   ],
   "source": [
    "Val_COM_ACQ_LUT('KOAX-WS-2XOR-WS','Turck')"
   ]
  },
  {
   "cell_type": "code",
   "execution_count": 26,
   "metadata": {},
   "outputs": [
    {
     "data": {
      "text/plain": [
       "{'status': 'LUT',\n",
       " 'COM_PARTNUM': 'RC55LFC2943DA',\n",
       " 'SE_SUPPLIER': 'TT Electronics',\n",
       " 'COM_ID': 411993558}"
      ]
     },
     "execution_count": 26,
     "metadata": {},
     "output_type": "execute_result"
    }
   ],
   "source": [
    "Val_COM_ACQ_LUT('RC55-LFC294KDA','TT Electronics')"
   ]
  },
  {
   "cell_type": "code",
   "execution_count": 35,
   "metadata": {},
   "outputs": [
    {
     "name": "stdout",
     "output_type": "stream",
     "text": [
      "62089911\n",
      "('1300610130', 'Molex', 62089911)\n"
     ]
    },
    {
     "data": {
      "text/plain": [
       "{'status': 'ACQ',\n",
       " 'COM_PARTNUM': '1300610130',\n",
       " 'SE_SUPPLIER': 'Molex',\n",
       " 'COM_ID': 62089911}"
      ]
     },
     "execution_count": 35,
     "metadata": {},
     "output_type": "execute_result"
    }
   ],
   "source": [
    "Val_COM_ACQ_LUT('104006A45M010','Molex')"
   ]
  },
  {
   "cell_type": "code",
   "execution_count": 42,
   "metadata": {},
   "outputs": [
    {
     "data": {
      "text/plain": [
       "{'status': 'NOT MATCH', 'COM_PARTNUM': '', 'SE_SUPPLIER': '', 'COM_ID': ''}"
      ]
     },
     "execution_count": 42,
     "metadata": {},
     "output_type": "execute_result"
    }
   ],
   "source": [
    "Val_COM_ACQ_LUT('','')"
   ]
  },
  {
   "cell_type": "code",
   "execution_count": 38,
   "metadata": {},
   "outputs": [
    {
     "name": "stdout",
     "output_type": "stream",
     "text": [
      "26734385\n",
      "('Am29DL323GB90WDI', 'Infineon Technologies AG', 26734385)\n"
     ]
    },
    {
     "data": {
      "text/plain": [
       "{'status': 'ACQ',\n",
       " 'COM_PARTNUM': 'Am29DL323GB90WDI',\n",
       " 'SE_SUPPLIER': 'Infineon Technologies AG',\n",
       " 'COM_ID': 26734385}"
      ]
     },
     "execution_count": 38,
     "metadata": {},
     "output_type": "execute_result"
    }
   ],
   "source": [
    "Val_COM_ACQ_LUT('AM29DL323GB90WDI','Advanced Micro Devices, Inc.')"
   ]
  }
 ],
 "metadata": {
  "kernelspec": {
   "display_name": "DATASCIENCE",
   "language": "python",
   "name": "python3"
  },
  "language_info": {
   "codemirror_mode": {
    "name": "ipython",
    "version": 3
   },
   "file_extension": ".py",
   "mimetype": "text/x-python",
   "name": "python",
   "nbconvert_exporter": "python",
   "pygments_lexer": "ipython3",
   "version": "3.9.16"
  }
 },
 "nbformat": 4,
 "nbformat_minor": 2
}
